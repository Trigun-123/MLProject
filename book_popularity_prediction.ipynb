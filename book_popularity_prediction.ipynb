{
  "cells": [
    {
      "cell_type": "markdown",
      "id": "54e993d8",
      "metadata": {
        "id": "54e993d8"
      },
      "source": [
        "# Book Popularity Prediction\n"
      ]
    },
    {
      "cell_type": "code",
      "execution_count": 1,
      "id": "c3d1ad87",
      "metadata": {
        "id": "c3d1ad87"
      },
      "outputs": [],
      "source": [
        "import os\n",
        "import pandas as pd\n",
        "import numpy as np\n",
        "import matplotlib.pyplot as plt\n",
        "import seaborn as sns\n",
        "from google.colab import files\n",
        "\n",
        "\n",
        "from sklearn.model_selection import train_test_split, GridSearchCV\n",
        "from sklearn.feature_extraction.text import TfidfVectorizer\n",
        "from sklearn.preprocessing import StandardScaler\n",
        "from sklearn.compose import ColumnTransformer\n",
        "from sklearn.pipeline import Pipeline\n",
        "from sklearn.linear_model import LogisticRegression\n",
        "from sklearn.ensemble import RandomForestClassifier\n",
        "from sklearn.metrics import (\n",
        "    accuracy_score, f1_score, precision_score, recall_score,\n",
        "    classification_report, confusion_matrix, roc_auc_score, RocCurveDisplay\n",
        ")\n",
        "import joblib\n"
      ]
    },
    {
      "cell_type": "code",
      "execution_count": 2,
      "id": "d6b610e9",
      "metadata": {
        "colab": {
          "base_uri": "https://localhost:8080/"
        },
        "id": "d6b610e9",
        "outputId": "a8e9ac6d-78f8-41ef-8193-31113a023169"
      },
      "outputs": [
        {
          "output_type": "stream",
          "name": "stdout",
          "text": [
            "Set csv_path = book_data.csv\n"
          ]
        }
      ],
      "source": [
        "csv_path = 'book_data.csv'\n",
        "print(\"Set csv_path =\", csv_path)\n"
      ]
    },
    {
      "cell_type": "code",
      "execution_count": 6,
      "id": "1cb387c6",
      "metadata": {
        "colab": {
          "base_uri": "https://localhost:8080/",
          "height": 597
        },
        "id": "1cb387c6",
        "outputId": "2663b651-9d8e-4dcf-f166-933674e6c814"
      },
      "outputs": [
        {
          "output_type": "stream",
          "name": "stdout",
          "text": [
            "Raw shape: (9671, 12)\n"
          ]
        },
        {
          "output_type": "display_data",
          "data": {
            "text/plain": [
              "                 book_authors  \\\n",
              "0             Suzanne Collins   \n",
              "1  J.K. Rowling|Mary GrandPré   \n",
              "2                  Harper Lee   \n",
              "\n",
              "                                           book_desc      book_edition  \\\n",
              "0  Winning will make you famous. Losing means cer...               NaN   \n",
              "1  There is a door at the end of a silent corrido...        US Edition   \n",
              "2  The unforgettable novel of a childhood in a sl...  50th Anniversary   \n",
              "\n",
              "  book_format     book_isbn book_pages  book_rating  book_rating_count  \\\n",
              "0   Hardcover  9.780000e+12  374 pages         4.33            5519135   \n",
              "1   Paperback  9.780000e+12  870 pages         4.48            2041594   \n",
              "2   Paperback  9.780000e+12  324 pages         4.27            3745197   \n",
              "\n",
              "   book_review_count                                 book_title  \\\n",
              "0             160706                           The Hunger Games   \n",
              "1              33264  Harry Potter and the Order of the Phoenix   \n",
              "2              79450                      To Kill a Mockingbird   \n",
              "\n",
              "                                              genres  \\\n",
              "0  Young Adult|Fiction|Science Fiction|Dystopia|F...   \n",
              "1                        Fantasy|Young Adult|Fiction   \n",
              "2  Classics|Fiction|Historical|Historical Fiction...   \n",
              "\n",
              "                                           image_url  \n",
              "0  https://images.gr-assets.com/books/1447303603l...  \n",
              "1  https://images.gr-assets.com/books/1255614970l...  \n",
              "2  https://images.gr-assets.com/books/1361975680l...  "
            ],
            "text/html": [
              "\n",
              "  <div id=\"df-8c98a484-fdb3-4b58-a399-b8afbfc4fa9c\" class=\"colab-df-container\">\n",
              "    <div>\n",
              "<style scoped>\n",
              "    .dataframe tbody tr th:only-of-type {\n",
              "        vertical-align: middle;\n",
              "    }\n",
              "\n",
              "    .dataframe tbody tr th {\n",
              "        vertical-align: top;\n",
              "    }\n",
              "\n",
              "    .dataframe thead th {\n",
              "        text-align: right;\n",
              "    }\n",
              "</style>\n",
              "<table border=\"1\" class=\"dataframe\">\n",
              "  <thead>\n",
              "    <tr style=\"text-align: right;\">\n",
              "      <th></th>\n",
              "      <th>book_authors</th>\n",
              "      <th>book_desc</th>\n",
              "      <th>book_edition</th>\n",
              "      <th>book_format</th>\n",
              "      <th>book_isbn</th>\n",
              "      <th>book_pages</th>\n",
              "      <th>book_rating</th>\n",
              "      <th>book_rating_count</th>\n",
              "      <th>book_review_count</th>\n",
              "      <th>book_title</th>\n",
              "      <th>genres</th>\n",
              "      <th>image_url</th>\n",
              "    </tr>\n",
              "  </thead>\n",
              "  <tbody>\n",
              "    <tr>\n",
              "      <th>0</th>\n",
              "      <td>Suzanne Collins</td>\n",
              "      <td>Winning will make you famous. Losing means cer...</td>\n",
              "      <td>NaN</td>\n",
              "      <td>Hardcover</td>\n",
              "      <td>9.780000e+12</td>\n",
              "      <td>374 pages</td>\n",
              "      <td>4.33</td>\n",
              "      <td>5519135</td>\n",
              "      <td>160706</td>\n",
              "      <td>The Hunger Games</td>\n",
              "      <td>Young Adult|Fiction|Science Fiction|Dystopia|F...</td>\n",
              "      <td>https://images.gr-assets.com/books/1447303603l...</td>\n",
              "    </tr>\n",
              "    <tr>\n",
              "      <th>1</th>\n",
              "      <td>J.K. Rowling|Mary GrandPré</td>\n",
              "      <td>There is a door at the end of a silent corrido...</td>\n",
              "      <td>US Edition</td>\n",
              "      <td>Paperback</td>\n",
              "      <td>9.780000e+12</td>\n",
              "      <td>870 pages</td>\n",
              "      <td>4.48</td>\n",
              "      <td>2041594</td>\n",
              "      <td>33264</td>\n",
              "      <td>Harry Potter and the Order of the Phoenix</td>\n",
              "      <td>Fantasy|Young Adult|Fiction</td>\n",
              "      <td>https://images.gr-assets.com/books/1255614970l...</td>\n",
              "    </tr>\n",
              "    <tr>\n",
              "      <th>2</th>\n",
              "      <td>Harper Lee</td>\n",
              "      <td>The unforgettable novel of a childhood in a sl...</td>\n",
              "      <td>50th Anniversary</td>\n",
              "      <td>Paperback</td>\n",
              "      <td>9.780000e+12</td>\n",
              "      <td>324 pages</td>\n",
              "      <td>4.27</td>\n",
              "      <td>3745197</td>\n",
              "      <td>79450</td>\n",
              "      <td>To Kill a Mockingbird</td>\n",
              "      <td>Classics|Fiction|Historical|Historical Fiction...</td>\n",
              "      <td>https://images.gr-assets.com/books/1361975680l...</td>\n",
              "    </tr>\n",
              "  </tbody>\n",
              "</table>\n",
              "</div>\n",
              "    <div class=\"colab-df-buttons\">\n",
              "\n",
              "  <div class=\"colab-df-container\">\n",
              "    <button class=\"colab-df-convert\" onclick=\"convertToInteractive('df-8c98a484-fdb3-4b58-a399-b8afbfc4fa9c')\"\n",
              "            title=\"Convert this dataframe to an interactive table.\"\n",
              "            style=\"display:none;\">\n",
              "\n",
              "  <svg xmlns=\"http://www.w3.org/2000/svg\" height=\"24px\" viewBox=\"0 -960 960 960\">\n",
              "    <path d=\"M120-120v-720h720v720H120Zm60-500h600v-160H180v160Zm220 220h160v-160H400v160Zm0 220h160v-160H400v160ZM180-400h160v-160H180v160Zm440 0h160v-160H620v160ZM180-180h160v-160H180v160Zm440 0h160v-160H620v160Z\"/>\n",
              "  </svg>\n",
              "    </button>\n",
              "\n",
              "  <style>\n",
              "    .colab-df-container {\n",
              "      display:flex;\n",
              "      gap: 12px;\n",
              "    }\n",
              "\n",
              "    .colab-df-convert {\n",
              "      background-color: #E8F0FE;\n",
              "      border: none;\n",
              "      border-radius: 50%;\n",
              "      cursor: pointer;\n",
              "      display: none;\n",
              "      fill: #1967D2;\n",
              "      height: 32px;\n",
              "      padding: 0 0 0 0;\n",
              "      width: 32px;\n",
              "    }\n",
              "\n",
              "    .colab-df-convert:hover {\n",
              "      background-color: #E2EBFA;\n",
              "      box-shadow: 0px 1px 2px rgba(60, 64, 67, 0.3), 0px 1px 3px 1px rgba(60, 64, 67, 0.15);\n",
              "      fill: #174EA6;\n",
              "    }\n",
              "\n",
              "    .colab-df-buttons div {\n",
              "      margin-bottom: 4px;\n",
              "    }\n",
              "\n",
              "    [theme=dark] .colab-df-convert {\n",
              "      background-color: #3B4455;\n",
              "      fill: #D2E3FC;\n",
              "    }\n",
              "\n",
              "    [theme=dark] .colab-df-convert:hover {\n",
              "      background-color: #434B5C;\n",
              "      box-shadow: 0px 1px 3px 1px rgba(0, 0, 0, 0.15);\n",
              "      filter: drop-shadow(0px 1px 2px rgba(0, 0, 0, 0.3));\n",
              "      fill: #FFFFFF;\n",
              "    }\n",
              "  </style>\n",
              "\n",
              "    <script>\n",
              "      const buttonEl =\n",
              "        document.querySelector('#df-8c98a484-fdb3-4b58-a399-b8afbfc4fa9c button.colab-df-convert');\n",
              "      buttonEl.style.display =\n",
              "        google.colab.kernel.accessAllowed ? 'block' : 'none';\n",
              "\n",
              "      async function convertToInteractive(key) {\n",
              "        const element = document.querySelector('#df-8c98a484-fdb3-4b58-a399-b8afbfc4fa9c');\n",
              "        const dataTable =\n",
              "          await google.colab.kernel.invokeFunction('convertToInteractive',\n",
              "                                                    [key], {});\n",
              "        if (!dataTable) return;\n",
              "\n",
              "        const docLinkHtml = 'Like what you see? Visit the ' +\n",
              "          '<a target=\"_blank\" href=https://colab.research.google.com/notebooks/data_table.ipynb>data table notebook</a>'\n",
              "          + ' to learn more about interactive tables.';\n",
              "        element.innerHTML = '';\n",
              "        dataTable['output_type'] = 'display_data';\n",
              "        await google.colab.output.renderOutput(dataTable, element);\n",
              "        const docLink = document.createElement('div');\n",
              "        docLink.innerHTML = docLinkHtml;\n",
              "        element.appendChild(docLink);\n",
              "      }\n",
              "    </script>\n",
              "  </div>\n",
              "\n",
              "\n",
              "    <div id=\"df-1601814c-520d-40b1-9380-041dd3fb96bd\">\n",
              "      <button class=\"colab-df-quickchart\" onclick=\"quickchart('df-1601814c-520d-40b1-9380-041dd3fb96bd')\"\n",
              "                title=\"Suggest charts\"\n",
              "                style=\"display:none;\">\n",
              "\n",
              "<svg xmlns=\"http://www.w3.org/2000/svg\" height=\"24px\"viewBox=\"0 0 24 24\"\n",
              "     width=\"24px\">\n",
              "    <g>\n",
              "        <path d=\"M19 3H5c-1.1 0-2 .9-2 2v14c0 1.1.9 2 2 2h14c1.1 0 2-.9 2-2V5c0-1.1-.9-2-2-2zM9 17H7v-7h2v7zm4 0h-2V7h2v10zm4 0h-2v-4h2v4z\"/>\n",
              "    </g>\n",
              "</svg>\n",
              "      </button>\n",
              "\n",
              "<style>\n",
              "  .colab-df-quickchart {\n",
              "      --bg-color: #E8F0FE;\n",
              "      --fill-color: #1967D2;\n",
              "      --hover-bg-color: #E2EBFA;\n",
              "      --hover-fill-color: #174EA6;\n",
              "      --disabled-fill-color: #AAA;\n",
              "      --disabled-bg-color: #DDD;\n",
              "  }\n",
              "\n",
              "  [theme=dark] .colab-df-quickchart {\n",
              "      --bg-color: #3B4455;\n",
              "      --fill-color: #D2E3FC;\n",
              "      --hover-bg-color: #434B5C;\n",
              "      --hover-fill-color: #FFFFFF;\n",
              "      --disabled-bg-color: #3B4455;\n",
              "      --disabled-fill-color: #666;\n",
              "  }\n",
              "\n",
              "  .colab-df-quickchart {\n",
              "    background-color: var(--bg-color);\n",
              "    border: none;\n",
              "    border-radius: 50%;\n",
              "    cursor: pointer;\n",
              "    display: none;\n",
              "    fill: var(--fill-color);\n",
              "    height: 32px;\n",
              "    padding: 0;\n",
              "    width: 32px;\n",
              "  }\n",
              "\n",
              "  .colab-df-quickchart:hover {\n",
              "    background-color: var(--hover-bg-color);\n",
              "    box-shadow: 0 1px 2px rgba(60, 64, 67, 0.3), 0 1px 3px 1px rgba(60, 64, 67, 0.15);\n",
              "    fill: var(--button-hover-fill-color);\n",
              "  }\n",
              "\n",
              "  .colab-df-quickchart-complete:disabled,\n",
              "  .colab-df-quickchart-complete:disabled:hover {\n",
              "    background-color: var(--disabled-bg-color);\n",
              "    fill: var(--disabled-fill-color);\n",
              "    box-shadow: none;\n",
              "  }\n",
              "\n",
              "  .colab-df-spinner {\n",
              "    border: 2px solid var(--fill-color);\n",
              "    border-color: transparent;\n",
              "    border-bottom-color: var(--fill-color);\n",
              "    animation:\n",
              "      spin 1s steps(1) infinite;\n",
              "  }\n",
              "\n",
              "  @keyframes spin {\n",
              "    0% {\n",
              "      border-color: transparent;\n",
              "      border-bottom-color: var(--fill-color);\n",
              "      border-left-color: var(--fill-color);\n",
              "    }\n",
              "    20% {\n",
              "      border-color: transparent;\n",
              "      border-left-color: var(--fill-color);\n",
              "      border-top-color: var(--fill-color);\n",
              "    }\n",
              "    30% {\n",
              "      border-color: transparent;\n",
              "      border-left-color: var(--fill-color);\n",
              "      border-top-color: var(--fill-color);\n",
              "      border-right-color: var(--fill-color);\n",
              "    }\n",
              "    40% {\n",
              "      border-color: transparent;\n",
              "      border-right-color: var(--fill-color);\n",
              "      border-top-color: var(--fill-color);\n",
              "    }\n",
              "    60% {\n",
              "      border-color: transparent;\n",
              "      border-right-color: var(--fill-color);\n",
              "    }\n",
              "    80% {\n",
              "      border-color: transparent;\n",
              "      border-right-color: var(--fill-color);\n",
              "      border-bottom-color: var(--fill-color);\n",
              "    }\n",
              "    90% {\n",
              "      border-color: transparent;\n",
              "      border-bottom-color: var(--fill-color);\n",
              "    }\n",
              "  }\n",
              "</style>\n",
              "\n",
              "      <script>\n",
              "        async function quickchart(key) {\n",
              "          const quickchartButtonEl =\n",
              "            document.querySelector('#' + key + ' button');\n",
              "          quickchartButtonEl.disabled = true;  // To prevent multiple clicks.\n",
              "          quickchartButtonEl.classList.add('colab-df-spinner');\n",
              "          try {\n",
              "            const charts = await google.colab.kernel.invokeFunction(\n",
              "                'suggestCharts', [key], {});\n",
              "          } catch (error) {\n",
              "            console.error('Error during call to suggestCharts:', error);\n",
              "          }\n",
              "          quickchartButtonEl.classList.remove('colab-df-spinner');\n",
              "          quickchartButtonEl.classList.add('colab-df-quickchart-complete');\n",
              "        }\n",
              "        (() => {\n",
              "          let quickchartButtonEl =\n",
              "            document.querySelector('#df-1601814c-520d-40b1-9380-041dd3fb96bd button');\n",
              "          quickchartButtonEl.style.display =\n",
              "            google.colab.kernel.accessAllowed ? 'block' : 'none';\n",
              "        })();\n",
              "      </script>\n",
              "    </div>\n",
              "\n",
              "    </div>\n",
              "  </div>\n"
            ],
            "application/vnd.google.colaboratory.intrinsic+json": {
              "type": "dataframe",
              "summary": "{\n  \"name\": \"display(df\",\n  \"rows\": 3,\n  \"fields\": [\n    {\n      \"column\": \"book_authors\",\n      \"properties\": {\n        \"dtype\": \"string\",\n        \"num_unique_values\": 3,\n        \"samples\": [\n          \"Suzanne Collins\",\n          \"J.K. Rowling|Mary GrandPr\\u00e9\",\n          \"Harper Lee\"\n        ],\n        \"semantic_type\": \"\",\n        \"description\": \"\"\n      }\n    },\n    {\n      \"column\": \"book_desc\",\n      \"properties\": {\n        \"dtype\": \"string\",\n        \"num_unique_values\": 3,\n        \"samples\": [\n          \"Winning will make you famous. Losing means certain death.The nation of Panem, formed from a post-apocalyptic North America, is a country that consists of a wealthy Capitol region surrounded by 12 poorer districts. Early in its history, a rebellion led by a 13th district against the Capitol resulted in its destruction and the creation of an annual televised event known as the Hunger Games. In punishment, and as a reminder of the power and grace of the Capitol, each district must yield one boy and one girl between the ages of 12 and 18 through a lottery system to participate in the games. The 'tributes' are chosen during the annual Reaping and are forced to fight to the death, leaving only one survivor to claim victory.When 16-year-old Katniss's young sister, Prim, is selected as District 12's female representative, Katniss volunteers to take her place. She and her male counterpart Peeta, are pitted against bigger, stronger representatives, some of whom have trained for this their whole lives. , she sees it as a death sentence. But Katniss has been close to death before. For her, survival is second nature.\",\n          \"There is a door at the end of a silent corridor. And it\\u2019s haunting Harry Pottter\\u2019s dreams. Why else would he be waking in the middle of the night, screaming in terror?Harry has a lot on his mind for this, his fifth year at Hogwarts: a Defense Against the Dark Arts teacher with a personality like poisoned honey; a big surprise on the Gryffindor Quidditch team; and the looming terror of the Ordinary Wizarding Level exams. But all these things pale next to the growing threat of He-Who-Must-Not-Be-Named---a threat that neither the magical government nor the authorities at Hogwarts can stop.As the grasp of darkness tightens, Harry must discover the true depth and strength of his friends, the importance of boundless loyalty, and the shocking price of unbearable sacrifice.His fate depends on them alll.(back cover)\",\n          \"The unforgettable novel of a childhood in a sleepy Southern town and the crisis of conscience that rocked it, To Kill A Mockingbird became both an instant bestseller and a critical success when it was first published in 1960. It went on to win the Pulitzer Prize in 1961 and was later made into an Academy Award-winning film, also a classic.Compassionate, dramatic, and deeply moving, To Kill A Mockingbird takes readers to the roots of human behavior - to innocence and experience, kindness and cruelty, love and hatred, humor and pathos. Now with over 18 million copies in print and translated into forty languages, this regional story by a young Alabama woman claims universal appeal. Harper Lee always considered her book to be a simple love story. Today it is regarded as a masterpiece of American literature.\"\n        ],\n        \"semantic_type\": \"\",\n        \"description\": \"\"\n      }\n    },\n    {\n      \"column\": \"book_edition\",\n      \"properties\": {\n        \"dtype\": \"string\",\n        \"num_unique_values\": 2,\n        \"samples\": [\n          \"50th Anniversary\",\n          \"US Edition\"\n        ],\n        \"semantic_type\": \"\",\n        \"description\": \"\"\n      }\n    },\n    {\n      \"column\": \"book_format\",\n      \"properties\": {\n        \"dtype\": \"string\",\n        \"num_unique_values\": 2,\n        \"samples\": [\n          \"Paperback\",\n          \"Hardcover\"\n        ],\n        \"semantic_type\": \"\",\n        \"description\": \"\"\n      }\n    },\n    {\n      \"column\": \"book_isbn\",\n      \"properties\": {\n        \"dtype\": \"number\",\n        \"std\": 0.0,\n        \"min\": 9780000000000.0,\n        \"max\": 9780000000000.0,\n        \"num_unique_values\": 1,\n        \"samples\": [\n          9780000000000.0\n        ],\n        \"semantic_type\": \"\",\n        \"description\": \"\"\n      }\n    },\n    {\n      \"column\": \"book_pages\",\n      \"properties\": {\n        \"dtype\": \"string\",\n        \"num_unique_values\": 3,\n        \"samples\": [\n          \"374 pages\"\n        ],\n        \"semantic_type\": \"\",\n        \"description\": \"\"\n      }\n    },\n    {\n      \"column\": \"book_rating\",\n      \"properties\": {\n        \"dtype\": \"number\",\n        \"std\": 0.10816653826392009,\n        \"min\": 4.27,\n        \"max\": 4.48,\n        \"num_unique_values\": 3,\n        \"samples\": [\n          4.33\n        ],\n        \"semantic_type\": \"\",\n        \"description\": \"\"\n      }\n    },\n    {\n      \"column\": \"book_rating_count\",\n      \"properties\": {\n        \"dtype\": \"number\",\n        \"std\": 1738889,\n        \"min\": 2041594,\n        \"max\": 5519135,\n        \"num_unique_values\": 3,\n        \"samples\": [\n          5519135\n        ],\n        \"semantic_type\": \"\",\n        \"description\": \"\"\n      }\n    },\n    {\n      \"column\": \"book_review_count\",\n      \"properties\": {\n        \"dtype\": \"number\",\n        \"std\": 64520,\n        \"min\": 33264,\n        \"max\": 160706,\n        \"num_unique_values\": 3,\n        \"samples\": [\n          160706\n        ],\n        \"semantic_type\": \"\",\n        \"description\": \"\"\n      }\n    },\n    {\n      \"column\": \"book_title\",\n      \"properties\": {\n        \"dtype\": \"string\",\n        \"num_unique_values\": 3,\n        \"samples\": [\n          \"The Hunger Games\"\n        ],\n        \"semantic_type\": \"\",\n        \"description\": \"\"\n      }\n    },\n    {\n      \"column\": \"genres\",\n      \"properties\": {\n        \"dtype\": \"string\",\n        \"num_unique_values\": 3,\n        \"samples\": [\n          \"Young Adult|Fiction|Science Fiction|Dystopia|Fantasy|Science Fiction\"\n        ],\n        \"semantic_type\": \"\",\n        \"description\": \"\"\n      }\n    },\n    {\n      \"column\": \"image_url\",\n      \"properties\": {\n        \"dtype\": \"string\",\n        \"num_unique_values\": 3,\n        \"samples\": [\n          \"https://images.gr-assets.com/books/1447303603l/2767052.jpg\"\n        ],\n        \"semantic_type\": \"\",\n        \"description\": \"\"\n      }\n    }\n  ]\n}"
            }
          },
          "metadata": {}
        },
        {
          "output_type": "display_data",
          "data": {
            "text/plain": [
              "['book_authors',\n",
              " 'book_desc',\n",
              " 'book_edition',\n",
              " 'book_format',\n",
              " 'book_isbn',\n",
              " 'book_pages',\n",
              " 'book_rating',\n",
              " 'book_rating_count',\n",
              " 'book_review_count',\n",
              " 'book_title',\n",
              " 'genres',\n",
              " 'image_url']"
            ]
          },
          "metadata": {}
        }
      ],
      "source": [
        "df = pd.read_csv(csv_path)\n",
        "print(\"Raw shape:\", df.shape)\n",
        "display(df.head(3))\n",
        "display(df.columns.tolist())\n"
      ]
    },
    {
      "cell_type": "code",
      "execution_count": 7,
      "id": "5632a5a2",
      "metadata": {
        "colab": {
          "base_uri": "https://localhost:8080/",
          "height": 357
        },
        "id": "5632a5a2",
        "outputId": "61820ca0-6686-4015-baae-e546fe2856e3"
      },
      "outputs": [
        {
          "output_type": "stream",
          "name": "stdout",
          "text": [
            "Present expected columns: ['book_authors', 'book_desc', 'book_edition', 'book_format', 'book_isbn', 'book_pages', 'book_rating', 'book_rating_count', 'book_review_count', 'book_title', 'genres', 'image_url']\n",
            "Cleaned shape: (9671, 13)\n"
          ]
        },
        {
          "output_type": "display_data",
          "data": {
            "text/plain": [
              "                 book_authors  \\\n",
              "0             Suzanne Collins   \n",
              "1  J.K. Rowling|Mary GrandPré   \n",
              "\n",
              "                                           book_desc book_edition book_format  \\\n",
              "0  Winning will make you famous. Losing means cer...          NaN   Hardcover   \n",
              "1  There is a door at the end of a silent corrido...   US Edition   Paperback   \n",
              "\n",
              "      book_isbn  book_pages  book_rating  book_rating_count  \\\n",
              "0  9.780000e+12         374         4.33            5519135   \n",
              "1  9.780000e+12         870         4.48            2041594   \n",
              "\n",
              "   book_review_count                                 book_title  \\\n",
              "0             160706                           The Hunger Games   \n",
              "1              33264  Harry Potter and the Order of the Phoenix   \n",
              "\n",
              "                                              genres  \\\n",
              "0  Young Adult|Fiction|Science Fiction|Dystopia|F...   \n",
              "1                        Fantasy|Young Adult|Fiction   \n",
              "\n",
              "                                           image_url  \\\n",
              "0  https://images.gr-assets.com/books/1447303603l...   \n",
              "1  https://images.gr-assets.com/books/1255614970l...   \n",
              "\n",
              "                                        genres_clean  \n",
              "0  young adult,fiction,science fiction,dystopia,f...  \n",
              "1                        fantasy,young adult,fiction  "
            ],
            "text/html": [
              "\n",
              "  <div id=\"df-e6fd80d9-df57-46fc-b40c-a0847667a506\" class=\"colab-df-container\">\n",
              "    <div>\n",
              "<style scoped>\n",
              "    .dataframe tbody tr th:only-of-type {\n",
              "        vertical-align: middle;\n",
              "    }\n",
              "\n",
              "    .dataframe tbody tr th {\n",
              "        vertical-align: top;\n",
              "    }\n",
              "\n",
              "    .dataframe thead th {\n",
              "        text-align: right;\n",
              "    }\n",
              "</style>\n",
              "<table border=\"1\" class=\"dataframe\">\n",
              "  <thead>\n",
              "    <tr style=\"text-align: right;\">\n",
              "      <th></th>\n",
              "      <th>book_authors</th>\n",
              "      <th>book_desc</th>\n",
              "      <th>book_edition</th>\n",
              "      <th>book_format</th>\n",
              "      <th>book_isbn</th>\n",
              "      <th>book_pages</th>\n",
              "      <th>book_rating</th>\n",
              "      <th>book_rating_count</th>\n",
              "      <th>book_review_count</th>\n",
              "      <th>book_title</th>\n",
              "      <th>genres</th>\n",
              "      <th>image_url</th>\n",
              "      <th>genres_clean</th>\n",
              "    </tr>\n",
              "  </thead>\n",
              "  <tbody>\n",
              "    <tr>\n",
              "      <th>0</th>\n",
              "      <td>Suzanne Collins</td>\n",
              "      <td>Winning will make you famous. Losing means cer...</td>\n",
              "      <td>NaN</td>\n",
              "      <td>Hardcover</td>\n",
              "      <td>9.780000e+12</td>\n",
              "      <td>374</td>\n",
              "      <td>4.33</td>\n",
              "      <td>5519135</td>\n",
              "      <td>160706</td>\n",
              "      <td>The Hunger Games</td>\n",
              "      <td>Young Adult|Fiction|Science Fiction|Dystopia|F...</td>\n",
              "      <td>https://images.gr-assets.com/books/1447303603l...</td>\n",
              "      <td>young adult,fiction,science fiction,dystopia,f...</td>\n",
              "    </tr>\n",
              "    <tr>\n",
              "      <th>1</th>\n",
              "      <td>J.K. Rowling|Mary GrandPré</td>\n",
              "      <td>There is a door at the end of a silent corrido...</td>\n",
              "      <td>US Edition</td>\n",
              "      <td>Paperback</td>\n",
              "      <td>9.780000e+12</td>\n",
              "      <td>870</td>\n",
              "      <td>4.48</td>\n",
              "      <td>2041594</td>\n",
              "      <td>33264</td>\n",
              "      <td>Harry Potter and the Order of the Phoenix</td>\n",
              "      <td>Fantasy|Young Adult|Fiction</td>\n",
              "      <td>https://images.gr-assets.com/books/1255614970l...</td>\n",
              "      <td>fantasy,young adult,fiction</td>\n",
              "    </tr>\n",
              "  </tbody>\n",
              "</table>\n",
              "</div>\n",
              "    <div class=\"colab-df-buttons\">\n",
              "\n",
              "  <div class=\"colab-df-container\">\n",
              "    <button class=\"colab-df-convert\" onclick=\"convertToInteractive('df-e6fd80d9-df57-46fc-b40c-a0847667a506')\"\n",
              "            title=\"Convert this dataframe to an interactive table.\"\n",
              "            style=\"display:none;\">\n",
              "\n",
              "  <svg xmlns=\"http://www.w3.org/2000/svg\" height=\"24px\" viewBox=\"0 -960 960 960\">\n",
              "    <path d=\"M120-120v-720h720v720H120Zm60-500h600v-160H180v160Zm220 220h160v-160H400v160Zm0 220h160v-160H400v160ZM180-400h160v-160H180v160Zm440 0h160v-160H620v160ZM180-180h160v-160H180v160Zm440 0h160v-160H620v160Z\"/>\n",
              "  </svg>\n",
              "    </button>\n",
              "\n",
              "  <style>\n",
              "    .colab-df-container {\n",
              "      display:flex;\n",
              "      gap: 12px;\n",
              "    }\n",
              "\n",
              "    .colab-df-convert {\n",
              "      background-color: #E8F0FE;\n",
              "      border: none;\n",
              "      border-radius: 50%;\n",
              "      cursor: pointer;\n",
              "      display: none;\n",
              "      fill: #1967D2;\n",
              "      height: 32px;\n",
              "      padding: 0 0 0 0;\n",
              "      width: 32px;\n",
              "    }\n",
              "\n",
              "    .colab-df-convert:hover {\n",
              "      background-color: #E2EBFA;\n",
              "      box-shadow: 0px 1px 2px rgba(60, 64, 67, 0.3), 0px 1px 3px 1px rgba(60, 64, 67, 0.15);\n",
              "      fill: #174EA6;\n",
              "    }\n",
              "\n",
              "    .colab-df-buttons div {\n",
              "      margin-bottom: 4px;\n",
              "    }\n",
              "\n",
              "    [theme=dark] .colab-df-convert {\n",
              "      background-color: #3B4455;\n",
              "      fill: #D2E3FC;\n",
              "    }\n",
              "\n",
              "    [theme=dark] .colab-df-convert:hover {\n",
              "      background-color: #434B5C;\n",
              "      box-shadow: 0px 1px 3px 1px rgba(0, 0, 0, 0.15);\n",
              "      filter: drop-shadow(0px 1px 2px rgba(0, 0, 0, 0.3));\n",
              "      fill: #FFFFFF;\n",
              "    }\n",
              "  </style>\n",
              "\n",
              "    <script>\n",
              "      const buttonEl =\n",
              "        document.querySelector('#df-e6fd80d9-df57-46fc-b40c-a0847667a506 button.colab-df-convert');\n",
              "      buttonEl.style.display =\n",
              "        google.colab.kernel.accessAllowed ? 'block' : 'none';\n",
              "\n",
              "      async function convertToInteractive(key) {\n",
              "        const element = document.querySelector('#df-e6fd80d9-df57-46fc-b40c-a0847667a506');\n",
              "        const dataTable =\n",
              "          await google.colab.kernel.invokeFunction('convertToInteractive',\n",
              "                                                    [key], {});\n",
              "        if (!dataTable) return;\n",
              "\n",
              "        const docLinkHtml = 'Like what you see? Visit the ' +\n",
              "          '<a target=\"_blank\" href=https://colab.research.google.com/notebooks/data_table.ipynb>data table notebook</a>'\n",
              "          + ' to learn more about interactive tables.';\n",
              "        element.innerHTML = '';\n",
              "        dataTable['output_type'] = 'display_data';\n",
              "        await google.colab.output.renderOutput(dataTable, element);\n",
              "        const docLink = document.createElement('div');\n",
              "        docLink.innerHTML = docLinkHtml;\n",
              "        element.appendChild(docLink);\n",
              "      }\n",
              "    </script>\n",
              "  </div>\n",
              "\n",
              "\n",
              "    <div id=\"df-39a60651-f2e9-4bd0-85cd-0a94390b340a\">\n",
              "      <button class=\"colab-df-quickchart\" onclick=\"quickchart('df-39a60651-f2e9-4bd0-85cd-0a94390b340a')\"\n",
              "                title=\"Suggest charts\"\n",
              "                style=\"display:none;\">\n",
              "\n",
              "<svg xmlns=\"http://www.w3.org/2000/svg\" height=\"24px\"viewBox=\"0 0 24 24\"\n",
              "     width=\"24px\">\n",
              "    <g>\n",
              "        <path d=\"M19 3H5c-1.1 0-2 .9-2 2v14c0 1.1.9 2 2 2h14c1.1 0 2-.9 2-2V5c0-1.1-.9-2-2-2zM9 17H7v-7h2v7zm4 0h-2V7h2v10zm4 0h-2v-4h2v4z\"/>\n",
              "    </g>\n",
              "</svg>\n",
              "      </button>\n",
              "\n",
              "<style>\n",
              "  .colab-df-quickchart {\n",
              "      --bg-color: #E8F0FE;\n",
              "      --fill-color: #1967D2;\n",
              "      --hover-bg-color: #E2EBFA;\n",
              "      --hover-fill-color: #174EA6;\n",
              "      --disabled-fill-color: #AAA;\n",
              "      --disabled-bg-color: #DDD;\n",
              "  }\n",
              "\n",
              "  [theme=dark] .colab-df-quickchart {\n",
              "      --bg-color: #3B4455;\n",
              "      --fill-color: #D2E3FC;\n",
              "      --hover-bg-color: #434B5C;\n",
              "      --hover-fill-color: #FFFFFF;\n",
              "      --disabled-bg-color: #3B4455;\n",
              "      --disabled-fill-color: #666;\n",
              "  }\n",
              "\n",
              "  .colab-df-quickchart {\n",
              "    background-color: var(--bg-color);\n",
              "    border: none;\n",
              "    border-radius: 50%;\n",
              "    cursor: pointer;\n",
              "    display: none;\n",
              "    fill: var(--fill-color);\n",
              "    height: 32px;\n",
              "    padding: 0;\n",
              "    width: 32px;\n",
              "  }\n",
              "\n",
              "  .colab-df-quickchart:hover {\n",
              "    background-color: var(--hover-bg-color);\n",
              "    box-shadow: 0 1px 2px rgba(60, 64, 67, 0.3), 0 1px 3px 1px rgba(60, 64, 67, 0.15);\n",
              "    fill: var(--button-hover-fill-color);\n",
              "  }\n",
              "\n",
              "  .colab-df-quickchart-complete:disabled,\n",
              "  .colab-df-quickchart-complete:disabled:hover {\n",
              "    background-color: var(--disabled-bg-color);\n",
              "    fill: var(--disabled-fill-color);\n",
              "    box-shadow: none;\n",
              "  }\n",
              "\n",
              "  .colab-df-spinner {\n",
              "    border: 2px solid var(--fill-color);\n",
              "    border-color: transparent;\n",
              "    border-bottom-color: var(--fill-color);\n",
              "    animation:\n",
              "      spin 1s steps(1) infinite;\n",
              "  }\n",
              "\n",
              "  @keyframes spin {\n",
              "    0% {\n",
              "      border-color: transparent;\n",
              "      border-bottom-color: var(--fill-color);\n",
              "      border-left-color: var(--fill-color);\n",
              "    }\n",
              "    20% {\n",
              "      border-color: transparent;\n",
              "      border-left-color: var(--fill-color);\n",
              "      border-top-color: var(--fill-color);\n",
              "    }\n",
              "    30% {\n",
              "      border-color: transparent;\n",
              "      border-left-color: var(--fill-color);\n",
              "      border-top-color: var(--fill-color);\n",
              "      border-right-color: var(--fill-color);\n",
              "    }\n",
              "    40% {\n",
              "      border-color: transparent;\n",
              "      border-right-color: var(--fill-color);\n",
              "      border-top-color: var(--fill-color);\n",
              "    }\n",
              "    60% {\n",
              "      border-color: transparent;\n",
              "      border-right-color: var(--fill-color);\n",
              "    }\n",
              "    80% {\n",
              "      border-color: transparent;\n",
              "      border-right-color: var(--fill-color);\n",
              "      border-bottom-color: var(--fill-color);\n",
              "    }\n",
              "    90% {\n",
              "      border-color: transparent;\n",
              "      border-bottom-color: var(--fill-color);\n",
              "    }\n",
              "  }\n",
              "</style>\n",
              "\n",
              "      <script>\n",
              "        async function quickchart(key) {\n",
              "          const quickchartButtonEl =\n",
              "            document.querySelector('#' + key + ' button');\n",
              "          quickchartButtonEl.disabled = true;  // To prevent multiple clicks.\n",
              "          quickchartButtonEl.classList.add('colab-df-spinner');\n",
              "          try {\n",
              "            const charts = await google.colab.kernel.invokeFunction(\n",
              "                'suggestCharts', [key], {});\n",
              "          } catch (error) {\n",
              "            console.error('Error during call to suggestCharts:', error);\n",
              "          }\n",
              "          quickchartButtonEl.classList.remove('colab-df-spinner');\n",
              "          quickchartButtonEl.classList.add('colab-df-quickchart-complete');\n",
              "        }\n",
              "        (() => {\n",
              "          let quickchartButtonEl =\n",
              "            document.querySelector('#df-39a60651-f2e9-4bd0-85cd-0a94390b340a button');\n",
              "          quickchartButtonEl.style.display =\n",
              "            google.colab.kernel.accessAllowed ? 'block' : 'none';\n",
              "        })();\n",
              "      </script>\n",
              "    </div>\n",
              "\n",
              "    </div>\n",
              "  </div>\n"
            ],
            "application/vnd.google.colaboratory.intrinsic+json": {
              "type": "dataframe",
              "summary": "{\n  \"name\": \"print(\\\"Saved book_data_cleaned\",\n  \"rows\": 2,\n  \"fields\": [\n    {\n      \"column\": \"book_authors\",\n      \"properties\": {\n        \"dtype\": \"string\",\n        \"num_unique_values\": 2,\n        \"samples\": [\n          \"J.K. Rowling|Mary GrandPr\\u00e9\",\n          \"Suzanne Collins\"\n        ],\n        \"semantic_type\": \"\",\n        \"description\": \"\"\n      }\n    },\n    {\n      \"column\": \"book_desc\",\n      \"properties\": {\n        \"dtype\": \"string\",\n        \"num_unique_values\": 2,\n        \"samples\": [\n          \"There is a door at the end of a silent corridor. And it\\u2019s haunting Harry Pottter\\u2019s dreams. Why else would he be waking in the middle of the night, screaming in terror?Harry has a lot on his mind for this, his fifth year at Hogwarts: a Defense Against the Dark Arts teacher with a personality like poisoned honey; a big surprise on the Gryffindor Quidditch team; and the looming terror of the Ordinary Wizarding Level exams. But all these things pale next to the growing threat of He-Who-Must-Not-Be-Named---a threat that neither the magical government nor the authorities at Hogwarts can stop.As the grasp of darkness tightens, Harry must discover the true depth and strength of his friends, the importance of boundless loyalty, and the shocking price of unbearable sacrifice.His fate depends on them alll.(back cover)\",\n          \"Winning will make you famous. Losing means certain death.The nation of Panem, formed from a post-apocalyptic North America, is a country that consists of a wealthy Capitol region surrounded by 12 poorer districts. Early in its history, a rebellion led by a 13th district against the Capitol resulted in its destruction and the creation of an annual televised event known as the Hunger Games. In punishment, and as a reminder of the power and grace of the Capitol, each district must yield one boy and one girl between the ages of 12 and 18 through a lottery system to participate in the games. The 'tributes' are chosen during the annual Reaping and are forced to fight to the death, leaving only one survivor to claim victory.When 16-year-old Katniss's young sister, Prim, is selected as District 12's female representative, Katniss volunteers to take her place. She and her male counterpart Peeta, are pitted against bigger, stronger representatives, some of whom have trained for this their whole lives. , she sees it as a death sentence. But Katniss has been close to death before. For her, survival is second nature.\"\n        ],\n        \"semantic_type\": \"\",\n        \"description\": \"\"\n      }\n    },\n    {\n      \"column\": \"book_edition\",\n      \"properties\": {\n        \"dtype\": \"string\",\n        \"num_unique_values\": 1,\n        \"samples\": [\n          \"US Edition\"\n        ],\n        \"semantic_type\": \"\",\n        \"description\": \"\"\n      }\n    },\n    {\n      \"column\": \"book_format\",\n      \"properties\": {\n        \"dtype\": \"string\",\n        \"num_unique_values\": 2,\n        \"samples\": [\n          \"Paperback\"\n        ],\n        \"semantic_type\": \"\",\n        \"description\": \"\"\n      }\n    },\n    {\n      \"column\": \"book_isbn\",\n      \"properties\": {\n        \"dtype\": \"number\",\n        \"std\": 0.0,\n        \"min\": 9780000000000.0,\n        \"max\": 9780000000000.0,\n        \"num_unique_values\": 1,\n        \"samples\": [\n          9780000000000.0\n        ],\n        \"semantic_type\": \"\",\n        \"description\": \"\"\n      }\n    },\n    {\n      \"column\": \"book_pages\",\n      \"properties\": {\n        \"dtype\": \"number\",\n        \"std\": 350,\n        \"min\": 374,\n        \"max\": 870,\n        \"num_unique_values\": 2,\n        \"samples\": [\n          870\n        ],\n        \"semantic_type\": \"\",\n        \"description\": \"\"\n      }\n    },\n    {\n      \"column\": \"book_rating\",\n      \"properties\": {\n        \"dtype\": \"number\",\n        \"std\": 0.10606601717798238,\n        \"min\": 4.33,\n        \"max\": 4.48,\n        \"num_unique_values\": 2,\n        \"samples\": [\n          4.48\n        ],\n        \"semantic_type\": \"\",\n        \"description\": \"\"\n      }\n    },\n    {\n      \"column\": \"book_rating_count\",\n      \"properties\": {\n        \"dtype\": \"number\",\n        \"std\": 2458992,\n        \"min\": 2041594,\n        \"max\": 5519135,\n        \"num_unique_values\": 2,\n        \"samples\": [\n          2041594\n        ],\n        \"semantic_type\": \"\",\n        \"description\": \"\"\n      }\n    },\n    {\n      \"column\": \"book_review_count\",\n      \"properties\": {\n        \"dtype\": \"number\",\n        \"std\": 90115,\n        \"min\": 33264,\n        \"max\": 160706,\n        \"num_unique_values\": 2,\n        \"samples\": [\n          33264\n        ],\n        \"semantic_type\": \"\",\n        \"description\": \"\"\n      }\n    },\n    {\n      \"column\": \"book_title\",\n      \"properties\": {\n        \"dtype\": \"string\",\n        \"num_unique_values\": 2,\n        \"samples\": [\n          \"Harry Potter and the Order of the Phoenix\"\n        ],\n        \"semantic_type\": \"\",\n        \"description\": \"\"\n      }\n    },\n    {\n      \"column\": \"genres\",\n      \"properties\": {\n        \"dtype\": \"string\",\n        \"num_unique_values\": 2,\n        \"samples\": [\n          \"Fantasy|Young Adult|Fiction\"\n        ],\n        \"semantic_type\": \"\",\n        \"description\": \"\"\n      }\n    },\n    {\n      \"column\": \"image_url\",\n      \"properties\": {\n        \"dtype\": \"string\",\n        \"num_unique_values\": 2,\n        \"samples\": [\n          \"https://images.gr-assets.com/books/1255614970l/2.jpg\"\n        ],\n        \"semantic_type\": \"\",\n        \"description\": \"\"\n      }\n    },\n    {\n      \"column\": \"genres_clean\",\n      \"properties\": {\n        \"dtype\": \"string\",\n        \"num_unique_values\": 2,\n        \"samples\": [\n          \"fantasy,young adult,fiction\"\n        ],\n        \"semantic_type\": \"\",\n        \"description\": \"\"\n      }\n    }\n  ]\n}"
            }
          },
          "metadata": {}
        },
        {
          "output_type": "stream",
          "name": "stdout",
          "text": [
            "Saved book_data_cleaned.csv\n"
          ]
        }
      ],
      "source": [
        "def clean_dataframe(df):\n",
        "    df = df.copy()\n",
        "    df.columns = df.columns.str.strip().str.lower().str.replace(' ', '_')\n",
        "    expected = ['book_authors','book_desc','book_edition','book_format','book_isbn',\n",
        "                'book_pages','book_rating','book_rating_count','book_review_count',\n",
        "                'book_title','genres','image_url']\n",
        "    present = [c for c in expected if c in df.columns]\n",
        "    print(\"Present expected columns:\", present)\n",
        "    if 'book_pages' in df.columns:\n",
        "        df['book_pages'] = df['book_pages'].astype(str).str.replace(r'[^0-9]', '', regex=True)\n",
        "        df['book_pages'] = pd.to_numeric(df['book_pages'], errors='coerce').fillna(0).astype(int)\n",
        "    else:\n",
        "        df['book_pages'] = 0\n",
        "    for col in ['book_rating','book_rating_count','book_review_count']:\n",
        "        if col in df.columns:\n",
        "            df[col] = pd.to_numeric(df[col], errors='coerce').fillna(0)\n",
        "        else:\n",
        "            df[col] = 0\n",
        "    for tcol in ['book_desc','book_title','book_authors','genres']:\n",
        "        if tcol in df.columns:\n",
        "            df[tcol] = df[tcol].fillna('').astype(str)\n",
        "        else:\n",
        "            df[tcol] = ''\n",
        "    df['genres_clean'] = df['genres'].str.replace(r'[|;]', ',', regex=True).str.lower()\n",
        "    return df\n",
        "\n",
        "df = clean_dataframe(df)\n",
        "print(\"Cleaned shape:\", df.shape)\n",
        "display(df.head(2))\n",
        "df.to_csv('book_data_cleaned.csv', index=False)\n",
        "print(\"Saved book_data_cleaned.csv\")\n"
      ]
    },
    {
      "cell_type": "code",
      "execution_count": 8,
      "id": "87d75a50",
      "metadata": {
        "colab": {
          "base_uri": "https://localhost:8080/",
          "height": 195
        },
        "id": "87d75a50",
        "outputId": "7990b846-cb4f-40c5-b3b5-a3df7b7b47b8"
      },
      "outputs": [
        {
          "output_type": "stream",
          "name": "stdout",
          "text": [
            "Using quantile=0.9, threshold=7939.00 for 'popular' label\n"
          ]
        },
        {
          "output_type": "display_data",
          "data": {
            "text/plain": [
              "popular_book\n",
              "0    0.899907\n",
              "1    0.100093\n",
              "Name: proportion, dtype: float64"
            ],
            "text/html": [
              "<div>\n",
              "<style scoped>\n",
              "    .dataframe tbody tr th:only-of-type {\n",
              "        vertical-align: middle;\n",
              "    }\n",
              "\n",
              "    .dataframe tbody tr th {\n",
              "        vertical-align: top;\n",
              "    }\n",
              "\n",
              "    .dataframe thead th {\n",
              "        text-align: right;\n",
              "    }\n",
              "</style>\n",
              "<table border=\"1\" class=\"dataframe\">\n",
              "  <thead>\n",
              "    <tr style=\"text-align: right;\">\n",
              "      <th></th>\n",
              "      <th>proportion</th>\n",
              "    </tr>\n",
              "    <tr>\n",
              "      <th>popular_book</th>\n",
              "      <th></th>\n",
              "    </tr>\n",
              "  </thead>\n",
              "  <tbody>\n",
              "    <tr>\n",
              "      <th>0</th>\n",
              "      <td>0.899907</td>\n",
              "    </tr>\n",
              "    <tr>\n",
              "      <th>1</th>\n",
              "      <td>0.100093</td>\n",
              "    </tr>\n",
              "  </tbody>\n",
              "</table>\n",
              "</div><br><label><b>dtype:</b> float64</label>"
            ]
          },
          "metadata": {}
        }
      ],
      "source": [
        "quantile = 0.90\n",
        "thr = df['book_review_count'].quantile(quantile)\n",
        "print(f\"Using quantile={quantile}, threshold={thr:.2f} for 'popular' label\")\n",
        "df['popular_book'] = (df['book_review_count'] >= thr).astype(int)\n",
        "display(df['popular_book'].value_counts(normalize=True))\n"
      ]
    },
    {
      "cell_type": "code",
      "execution_count": 9,
      "id": "51c62f36",
      "metadata": {
        "colab": {
          "base_uri": "https://localhost:8080/",
          "height": 410
        },
        "id": "51c62f36",
        "outputId": "4468f773-daee-49fe-9287-a00c6d590030"
      },
      "outputs": [
        {
          "output_type": "display_data",
          "data": {
            "text/plain": [
              "<Figure size 800x400 with 1 Axes>"
            ],
            "image/png": "[encoded data removed]"
          },
          "metadata": {}
        }
      ],
      "source": [
        "plt.figure(figsize=(8,4))\n",
        "sns.countplot(x='popular_book', data=df)\n",
        "plt.title('Popular (1) vs Not Popular (0)')\n",
        "plt.show()\n"
      ]
    },
    {
      "cell_type": "code",
      "execution_count": 17,
      "id": "12a9bc28",
      "metadata": {
        "id": "12a9bc28"
      },
      "outputs": [],
      "source": [
        "text_col = 'book_desc'\n",
        "numeric_cols = ['book_pages','book_rating','book_rating_count']\n",
        "\n",
        "empty_desc_frac = (df['book_desc'].str.strip() == '').mean()\n",
        "if empty_desc_frac > 0.25:\n",
        "    df['combined_text'] = (df['book_title'].fillna('') + ' ' + df['book_authors'].fillna('') + ' ' + df['book_desc'].fillna('')).str.strip()\n",
        "    text_col = 'combined_text'\n",
        "\n",
        "X = df[[text_col] + numeric_cols]\n",
        "y = df['popular_book']\n",
        "\n",
        "X_train, X_test, y_train, y_test = train_test_split(X, y, stratify=y, test_size=0.2, random_state=42)\n"
      ]
    },
    {
      "cell_type": "code",
      "execution_count": 19,
      "id": "d52e5ada",
      "metadata": {
        "id": "d52e5ada"
      },
      "outputs": [],
      "source": [
        "tfidf = TfidfVectorizer(stop_words='english', max_features=5000, ngram_range=(1,2))\n",
        "scaler = StandardScaler()\n",
        "\n",
        "preprocessor = ColumnTransformer([\n",
        "    ('tfidf', tfidf, text_col),\n",
        "    ('num', scaler, numeric_cols)\n",
        "])\n",
        "\n",
        "pipe_lr = Pipeline([('pre', preprocessor), ('clf', LogisticRegression(max_iter=1000, class_weight='balanced', solver='saga'))])\n",
        "pipe_rf = Pipeline([('pre', preprocessor), ('clf', RandomForestClassifier(n_estimators=200, random_state=42, class_weight='balanced'))])\n"
      ]
    },
    {
      "cell_type": "code",
      "execution_count": 20,
      "id": "56acea57",
      "metadata": {
        "colab": {
          "base_uri": "https://localhost:8080/"
        },
        "id": "56acea57",
        "outputId": "8663ce27-b2b4-48c1-c9fb-48fd62cf5d11"
      },
      "outputs": [
        {
          "output_type": "stream",
          "name": "stdout",
          "text": [
            "LR Accuracy: 0.9410852713178295\n",
            "LR F1: 0.75\n",
            "              precision    recall  f1-score   support\n",
            "\n",
            "           0       0.98      0.95      0.97      1731\n",
            "           1       0.68      0.84      0.75       204\n",
            "\n",
            "    accuracy                           0.94      1935\n",
            "   macro avg       0.83      0.90      0.86      1935\n",
            "weighted avg       0.95      0.94      0.94      1935\n",
            "\n"
          ]
        }
      ],
      "source": [
        "pipe_lr.fit(X_train, y_train)\n",
        "y_pred_lr = pipe_lr.predict(X_test)\n",
        "print(\"LR Accuracy:\", accuracy_score(y_test, y_pred_lr))\n",
        "print(\"LR F1:\", f1_score(y_test, y_pred_lr, zero_division=0))\n",
        "print(classification_report(y_test, y_pred_lr, zero_division=0))\n"
      ]
    },
    {
      "cell_type": "code",
      "execution_count": 21,
      "id": "1fe22c84",
      "metadata": {
        "colab": {
          "base_uri": "https://localhost:8080/"
        },
        "id": "1fe22c84",
        "outputId": "ee7c7951-bae8-4a47-dd86-9623bbc9e039"
      },
      "outputs": [
        {
          "output_type": "stream",
          "name": "stdout",
          "text": [
            "RF Accuracy: 0.9116279069767442\n",
            "RF F1: 0.27848101265822783\n",
            "              precision    recall  f1-score   support\n",
            "\n",
            "           0       0.91      1.00      0.95      1731\n",
            "           1       1.00      0.16      0.28       204\n",
            "\n",
            "    accuracy                           0.91      1935\n",
            "   macro avg       0.96      0.58      0.62      1935\n",
            "weighted avg       0.92      0.91      0.88      1935\n",
            "\n"
          ]
        }
      ],
      "source": [
        "pipe_rf.fit(X_train, y_train)\n",
        "y_pred_rf = pipe_rf.predict(X_test)\n",
        "print(\"RF Accuracy:\", accuracy_score(y_test, y_pred_rf))\n",
        "print(\"RF F1:\", f1_score(y_test, y_pred_rf, zero_division=0))\n",
        "print(classification_report(y_test, y_pred_rf, zero_division=0))\n"
      ]
    },
    {
      "cell_type": "code",
      "source": [
        "from sklearn.metrics import confusion_matrix\n",
        "import seaborn as sns\n",
        "import matplotlib.pyplot as plt\n",
        "\n",
        "pipe_lr.fit(X_train, y_train)\n",
        "y_pred = pipe_lr.predict(X_test)\n",
        "cm = confusion_matrix(y_test, y_pred)\n",
        "\n",
        "plt.figure(figsize=(6,4))\n",
        "sns.heatmap(cm, annot=True, fmt='d', cmap='Blues')\n",
        "plt.xlabel('Predicted Label')\n",
        "plt.ylabel('True Label')\n",
        "plt.title('Confusion Matrix - Logistic Regression')\n",
        "plt.show()"
      ],
      "metadata": {
        "colab": {
          "base_uri": "https://localhost:8080/",
          "height": 410
        },
        "id": "lr1_qk7omu6J",
        "outputId": "89feb506-ab5e-4c40-b848-f3124246f7ee"
      },
      "id": "lr1_qk7omu6J",
      "execution_count": 25,
      "outputs": [
        {
          "output_type": "display_data",
          "data": {
            "text/plain": [
              "<Figure size 600x400 with 2 Axes>"
            ],
            "image/png": "[encoded data removed]"
          },
          "metadata": {}
        }
      ]
    },
    {
      "cell_type": "code",
      "source": [
        "RocCurveDisplay.from_estimator(pipe_lr, X_test, y_test)\n",
        "plt.title('ROC Curve')\n",
        "plt.show()"
      ],
      "metadata": {
        "colab": {
          "base_uri": "https://localhost:8080/",
          "height": 472
        },
        "id": "PxhESgamm5wk",
        "outputId": "03336132-3f72-49fd-dfdb-06b30128b05c"
      },
      "id": "PxhESgamm5wk",
      "execution_count": 27,
      "outputs": [
        {
          "output_type": "display_data",
          "data": {
            "text/plain": [
              "<Figure size 640x480 with 1 Axes>"
            ],
            "image/png": "[encoded data removed]"
          },
          "metadata": {}
        }
      ]
    },
    {
      "cell_type": "code",
      "source": [
        "y_proba = pipe_lr.predict_proba(X_test)[:, 1]\n",
        "roc_auc = roc_auc_score(y_test, y_proba)\n",
        "print(f'ROC-AUC score: {roc_auc:.4f}')"
      ],
      "metadata": {
        "colab": {
          "base_uri": "https://localhost:8080/"
        },
        "id": "ScRHDPv3nLgW",
        "outputId": "f2986b18-bde2-4e69-fd9f-e0f59f2488f8"
      },
      "id": "ScRHDPv3nLgW",
      "execution_count": 29,
      "outputs": [
        {
          "output_type": "stream",
          "name": "stdout",
          "text": [
            "ROC-AUC score: 0.9761\n"
          ]
        }
      ]
    },
    {
      "cell_type": "code",
      "execution_count": 22,
      "id": "ec005c1b",
      "metadata": {
        "colab": {
          "base_uri": "https://localhost:8080/",
          "height": 34
        },
        "id": "ec005c1b",
        "outputId": "5808bf86-5955-45a5-a1c0-c74e2dc7369a"
      },
      "outputs": [
        {
          "output_type": "stream",
          "name": "stdout",
          "text": [
            "Saved models and cleaned data\n"
          ]
        },
        {
          "output_type": "display_data",
          "data": {
            "text/plain": [
              "<IPython.core.display.Javascript object>"
            ],
            "application/javascript": [
              "\n",
              "    async function download(id, filename, size) {\n",
              "      if (!google.colab.kernel.accessAllowed) {\n",
              "        return;\n",
              "      }\n",
              "      const div = document.createElement('div');\n",
              "      const label = document.createElement('label');\n",
              "      label.textContent = `Downloading \"${filename}\": `;\n",
              "      div.appendChild(label);\n",
              "      const progress = document.createElement('progress');\n",
              "      progress.max = size;\n",
              "      div.appendChild(progress);\n",
              "      document.body.appendChild(div);\n",
              "\n",
              "      const buffers = [];\n",
              "      let downloaded = 0;\n",
              "\n",
              "      const channel = await google.colab.kernel.comms.open(id);\n",
              "      // Send a message to notify the kernel that we're ready.\n",
              "      channel.send({})\n",
              "\n",
              "      for await (const message of channel.messages) {\n",
              "        // Send a message to notify the kernel that we're ready.\n",
              "        channel.send({})\n",
              "        if (message.buffers) {\n",
              "          for (const buffer of message.buffers) {\n",
              "            buffers.push(buffer);\n",
              "            downloaded += buffer.byteLength;\n",
              "            progress.value = downloaded;\n",
              "          }\n",
              "        }\n",
              "      }\n",
              "      const blob = new Blob(buffers, {type: 'application/binary'});\n",
              "      const a = document.createElement('a');\n",
              "      a.href = window.URL.createObjectURL(blob);\n",
              "      a.download = filename;\n",
              "      div.appendChild(a);\n",
              "      a.click();\n",
              "      div.remove();\n",
              "    }\n",
              "  "
            ]
          },
          "metadata": {}
        },
        {
          "output_type": "display_data",
          "data": {
            "text/plain": [
              "<IPython.core.display.Javascript object>"
            ],
            "application/javascript": [
              "download(\"download_02d6dca4-9876-4310-9403-9d8fe793c2cf\", \"book_data_cleaned.csv\", 11132237)"
            ]
          },
          "metadata": {}
        },
        {
          "output_type": "display_data",
          "data": {
            "text/plain": [
              "<IPython.core.display.Javascript object>"
            ],
            "application/javascript": [
              "\n",
              "    async function download(id, filename, size) {\n",
              "      if (!google.colab.kernel.accessAllowed) {\n",
              "        return;\n",
              "      }\n",
              "      const div = document.createElement('div');\n",
              "      const label = document.createElement('label');\n",
              "      label.textContent = `Downloading \"${filename}\": `;\n",
              "      div.appendChild(label);\n",
              "      const progress = document.createElement('progress');\n",
              "      progress.max = size;\n",
              "      div.appendChild(progress);\n",
              "      document.body.appendChild(div);\n",
              "\n",
              "      const buffers = [];\n",
              "      let downloaded = 0;\n",
              "\n",
              "      const channel = await google.colab.kernel.comms.open(id);\n",
              "      // Send a message to notify the kernel that we're ready.\n",
              "      channel.send({})\n",
              "\n",
              "      for await (const message of channel.messages) {\n",
              "        // Send a message to notify the kernel that we're ready.\n",
              "        channel.send({})\n",
              "        if (message.buffers) {\n",
              "          for (const buffer of message.buffers) {\n",
              "            buffers.push(buffer);\n",
              "            downloaded += buffer.byteLength;\n",
              "            progress.value = downloaded;\n",
              "          }\n",
              "        }\n",
              "      }\n",
              "      const blob = new Blob(buffers, {type: 'application/binary'});\n",
              "      const a = document.createElement('a');\n",
              "      a.href = window.URL.createObjectURL(blob);\n",
              "      a.download = filename;\n",
              "      div.appendChild(a);\n",
              "      a.click();\n",
              "      div.remove();\n",
              "    }\n",
              "  "
            ]
          },
          "metadata": {}
        },
        {
          "output_type": "display_data",
          "data": {
            "text/plain": [
              "<IPython.core.display.Javascript object>"
            ],
            "application/javascript": [
              "download(\"download_86a7d0ab-7e55-4156-97b6-b1c7e8b2e331\", \"book_popularity_lr_pipeline.pkl\", 227393)"
            ]
          },
          "metadata": {}
        },
        {
          "output_type": "display_data",
          "data": {
            "text/plain": [
              "<IPython.core.display.Javascript object>"
            ],
            "application/javascript": [
              "\n",
              "    async function download(id, filename, size) {\n",
              "      if (!google.colab.kernel.accessAllowed) {\n",
              "        return;\n",
              "      }\n",
              "      const div = document.createElement('div');\n",
              "      const label = document.createElement('label');\n",
              "      label.textContent = `Downloading \"${filename}\": `;\n",
              "      div.appendChild(label);\n",
              "      const progress = document.createElement('progress');\n",
              "      progress.max = size;\n",
              "      div.appendChild(progress);\n",
              "      document.body.appendChild(div);\n",
              "\n",
              "      const buffers = [];\n",
              "      let downloaded = 0;\n",
              "\n",
              "      const channel = await google.colab.kernel.comms.open(id);\n",
              "      // Send a message to notify the kernel that we're ready.\n",
              "      channel.send({})\n",
              "\n",
              "      for await (const message of channel.messages) {\n",
              "        // Send a message to notify the kernel that we're ready.\n",
              "        channel.send({})\n",
              "        if (message.buffers) {\n",
              "          for (const buffer of message.buffers) {\n",
              "            buffers.push(buffer);\n",
              "            downloaded += buffer.byteLength;\n",
              "            progress.value = downloaded;\n",
              "          }\n",
              "        }\n",
              "      }\n",
              "      const blob = new Blob(buffers, {type: 'application/binary'});\n",
              "      const a = document.createElement('a');\n",
              "      a.href = window.URL.createObjectURL(blob);\n",
              "      a.download = filename;\n",
              "      div.appendChild(a);\n",
              "      a.click();\n",
              "      div.remove();\n",
              "    }\n",
              "  "
            ]
          },
          "metadata": {}
        },
        {
          "output_type": "display_data",
          "data": {
            "text/plain": [
              "<IPython.core.display.Javascript object>"
            ],
            "application/javascript": [
              "download(\"download_8f320866-13f7-41e7-a84d-2c3d69fdd3f3\", \"book_popularity_rf_pipeline.pkl\", 24571682)"
            ]
          },
          "metadata": {}
        }
      ],
      "source": [
        "joblib.dump(pipe_lr, 'book_popularity_lr_pipeline.pkl')\n",
        "joblib.dump(pipe_rf, 'book_popularity_rf_pipeline.pkl')\n",
        "df.to_csv('book_data_cleaned.csv', index=False)\n",
        "print(\"Saved models and cleaned data\")\n",
        "files.download('book_data_cleaned.csv')\n",
        "files.download('book_popularity_lr_pipeline.pkl')\n",
        "files.download('book_popularity_rf_pipeline.pkl')\n"
      ]
    }
  ],
  "metadata": {
    "colab": {
      "provenance": []
    },
    "kernelspec": {
      "display_name": "Python 3",
      "name": "python3"
    },
    "language_info": {
      "codemirror_mode": {
        "name": "ipython",
        "version": 3
      },
      "file_extension": ".py",
      "mimetype": "text/x-python",
      "name": "python",
      "nbconvert_exporter": "python",
      "pygments_lexer": "ipython3",
      "version": "3.10.11"
    }
  },
  "nbformat": 4,
  "nbformat_minor": 5
}